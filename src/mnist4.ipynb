{
 "cells": [
  {
   "cell_type": "code",
   "execution_count": 7,
   "metadata": {},
   "outputs": [],
   "source": [
    "\"\"\"\n",
    "A function that abstracts the process of writing a 2-dim list to a csv.\n",
    "\"\"\"\n",
    "from data import train_loader, holdout_loader\n",
    "from design import ConvNet\n",
    "import torch as t\n",
    "from torch import no_grad, max\n",
    "from torch.nn import CrossEntropyLoss\n",
    "\n",
    "LEARN_RATE = 0.001\n",
    "convnet = ConvNet()\n",
    "OPTIMIZER = t.optim.Adam(convnet.parameters(), \n",
    "                         lr = LEARN_RATE)   "
   ]
  },
  {
   "cell_type": "code",
   "execution_count": 9,
   "metadata": {},
   "outputs": [
    {
     "name": "stdout",
     "output_type": "stream",
     "text": [
      "Finished Training\n"
     ]
    }
   ],
   "source": [
    "%%time\n",
    "def fit(model, training, optimizer, loss_func, n_epochs=3):   \n",
    "   '''trains a network when given features (x) and labels (y).'''\n",
    "   for e in range(n_epochs):      \n",
    "      for x, y in training: ## loop over batches\n",
    "         optimizer.zero_grad()\n",
    "         loss = loss_func(model(x), y) \n",
    "         loss.backward()\n",
    "         optimizer.step()\n",
    "   print('Finished Training')    \n",
    "   \n",
    "fit(model = convnet, \n",
    "    training = train_loader, \n",
    "    optimizer = OPTIMIZER, \n",
    "    loss_func = CrossEntropyLoss()\n",
    "   )"
   ]
  },
  {
   "cell_type": "code",
   "execution_count": 21,
   "metadata": {},
   "outputs": [],
   "source": [
    "%%time\n",
    "class Accuracy:\n",
    "   '''Generate the model's holdout accuracy rate--by first looping over each holdout batch\n",
    "   to accumulate the # of correct predictions, and then dividing by sample size.'''\n",
    "   def __init__(self, model, holdout):\n",
    "      self.model = model\n",
    "      self.holdout = holdout\n",
    "      with no_grad():\n",
    "         self.correct_tally = 0\n",
    "         for x, y in holdout:\n",
    "            _, yhat = max(model(x).data, 1)\n",
    "            self.correct_tally += (yhat == y).sum().item()\n",
    "   def __str__(self):      \n",
    "      return ('The out-of-sample accuracy of the ConvNet:' +\n",
    "              f' {self.correct_tally / len(self.holdout.dataset) * 100}%')\n",
    "   \n",
    "accuracy = Accuracy(convnet, holdout_loader)\n",
    "print(f'{accuracy}')   "
   ]
  }
 ],
 "metadata": {
  "kernelspec": {
   "display_name": "Python 3",
   "language": "python",
   "name": "python3"
  },
  "language_info": {
   "codemirror_mode": {
    "name": "ipython",
    "version": 3
   },
   "file_extension": ".py",
   "mimetype": "text/x-python",
   "name": "python",
   "nbconvert_exporter": "python",
   "pygments_lexer": "ipython3",
   "version": "3.6.5"
  }
 },
 "nbformat": 4,
 "nbformat_minor": 2
}
