{
 "cells": [
  {
   "cell_type": "code",
   "execution_count": null,
   "metadata": {},
   "outputs": [],
   "source": [
    "# -*- coding: utf-8 -*-\n",
    "\"\"\"\n",
    "Created on Fri Jan 13 17:30:27 2017\n",
    "A function that abstracts the process of writing a 2-dim list to a csv.\n",
    "@author: jjung\n",
    "\"\"\"\n",
    "\n",
    "#       \n",
    "def writeList2csv(listData, outfile):\n",
    "    with open(outfile, \"w\", newline='') as f:\n",
    "        csv.writer(f, delimiter=',').writerows(listData)\n",
    "\n",
    "writeList2csv(targetMatr\n",
    "              , 'c:/users/jjung/desktop/PIP_Phase5/targetMatr.csv')"
   ]
  }
 ],
 "metadata": {
  "kernelspec": {
   "display_name": "Python 3",
   "language": "python",
   "name": "python3"
  },
  "language_info": {
   "codemirror_mode": {
    "name": "ipython",
    "version": 3
   },
   "file_extension": ".py",
   "mimetype": "text/x-python",
   "name": "python",
   "nbconvert_exporter": "python",
   "pygments_lexer": "ipython3",
   "version": "3.6.5"
  }
 },
 "nbformat": 4,
 "nbformat_minor": 2
}
